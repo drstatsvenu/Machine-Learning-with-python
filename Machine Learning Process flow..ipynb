{
 "cells": [
  {
   "cell_type": "markdown",
   "metadata": {},
   "source": [
    "# Machine Learning Process Flow."
   ]
  },
  {
   "cell_type": "markdown",
   "metadata": {},
   "source": [
    "Machine learning is a technique to make a machine learn automatically from data and predict labels on the unknown data. In this process we would need training data on which our algorithm is to be trained. Our algorithm then recognises a pattern in data which is loosely referred to as model. This model is used to predict the output on the external data. This results are compared to the true \n",
    "labels of the external data and this generates a feedback which is fed back to our learning algorithm where it corrects itself and repeats the process again. This process is continued till we get a learning algorithm which gives a minimum error is obtained."
   ]
  },
  {
   "cell_type": "markdown",
   "metadata": {},
   "source": [
    "The Machine Learning process flow diagram is shown below as a flow chart of operations."
   ]
  },
  {
   "cell_type": "code",
   "execution_count": 2,
   "metadata": {},
   "outputs": [
    {
     "data": {
      "image/png": "[encoded data removed]",
      "text/plain": [
       "<IPython.core.display.Image object>"
      ]
     },
     "execution_count": 2,
     "metadata": {},
     "output_type": "execute_result"
    }
   ],
   "source": [
    "from IPython.display import Image\n",
    "Image('F:/Wallpapers/coderslobby/Flow-Diagram.png')"
   ]
  },
  {
   "cell_type": "markdown",
   "metadata": {},
   "source": [
    "###### Training Data:"
   ]
  },
  {
   "cell_type": "markdown",
   "metadata": {},
   "source": [
    "For building an accurate machine learning model we need a lots of data. The data we obtained usually is not clean. So, we need to preprocess the data in order to use it. Assume that we are trying use machine learning to predict house prices based on the built up area. In such a case we get data of all the houses sold till date and process it to capture only that data which we feel will help us. Say, Data about Built up area and price for which it sold."
   ]
  },
  {
   "cell_type": "markdown",
   "metadata": {},
   "source": [
    "###### Learn Algorithm :"
   ]
  },
  {
   "cell_type": "markdown",
   "metadata": {},
   "source": [
    "The best way to catch relation between the variable and the label in the above house prices prediction case is plotting a linear relation among them. This linear equation in this particular case will become our learning algorithm. Note that our learning algorithm can be anything it is just that we assumed that it is a linear equation in this case."
   ]
  },
  {
   "cell_type": "markdown",
   "metadata": {},
   "source": [
    "###### Build model :"
   ]
  },
  {
   "cell_type": "markdown",
   "metadata": {},
   "source": [
    "Our learning algorithm is a linear equation of this sort $ y = m*x + c $. We need to specify random coefficients to build our model. This coefficient can be anything, we are just passing it randomly. "
   ]
  },
  {
   "cell_type": "markdown",
   "metadata": {},
   "source": [
    "###### Perform :"
   ]
  },
  {
   "cell_type": "markdown",
   "metadata": {},
   "source": [
    "The model we built is fed with our training data."
   ]
  },
  {
   "cell_type": "markdown",
   "metadata": {},
   "source": [
    "###### Feedback :"
   ]
  },
  {
   "cell_type": "code",
   "execution_count": 4,
   "metadata": {},
   "outputs": [
    {
     "data": {
      "image/png": "[encoded data removed]",
      "text/plain": [
       "<IPython.core.display.Image object>"
      ]
     },
     "execution_count": 4,
     "metadata": {},
     "output_type": "execute_result"
    }
   ],
   "source": [
    "from IPython.display import Image\n",
    "Image(\"F:/Wallpapers/coderslobby/House prices.png\")"
   ]
  },
  {
   "cell_type": "markdown",
   "metadata": {},
   "source": [
    "The model we built is not absolute and it is, in practice, not possible to build a model that captures all the labels. In the final step we find the error or error function i.e. the extent to which our model missed the labels. This feedback is fed back to the learning algorithm where it rectifies its coefficients so as to minimise error function in a later stage."
   ]
  },
  {
   "cell_type": "markdown",
   "metadata": {},
   "source": [
    "This process of finding error function and correcting the model(algorithm) to get a minimum error is repeated until we get a learn algorithm which gives us the least error possible. This entire process is not as simple as it sounds there are some technicalities involved which we will get to know later in our class."
   ]
  }
 ],
 "metadata": {
  "kernelspec": {
   "display_name": "Python 3",
   "language": "python",
   "name": "python3"
  },
  "language_info": {
   "codemirror_mode": {
    "name": "ipython",
    "version": 3
   },
   "file_extension": ".py",
   "mimetype": "text/x-python",
   "name": "python",
   "nbconvert_exporter": "python",
   "pygments_lexer": "ipython3",
   "version": "3.6.1"
  }
 },
 "nbformat": 4,
 "nbformat_minor": 2
}
