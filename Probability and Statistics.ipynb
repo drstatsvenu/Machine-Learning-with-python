{
 "cells": [
  {
   "cell_type": "markdown",
   "metadata": {},
   "source": [
    "# Importance of Probability and Statistics in machine learning"
   ]
  },
  {
   "cell_type": "markdown",
   "metadata": {},
   "source": [
    "Machine Learning theory is a field that intersects statistical, probabilistic, computer science and algorithmic aspects arising from learning iteratively from data and finding hidden insights which can be used to build intelligent models."
   ]
  },
  {
   "cell_type": "markdown",
   "metadata": {},
   "source": [
    "Recently, there has been an upsurge in the availability of many easy-to-use machine and deep learning packages such as scikit-learn, Weka, Tensorflow, R-caret etc.  We can use these ready to use libraries but to get a good grasp of the inner workings of the algorithms and get good results, a thorough mathematical understanding of many of these techniques is necessary."
   ]
  },
  {
   "cell_type": "markdown",
   "metadata": {},
   "source": [
    "# What is the level of math required?"
   ]
  },
  {
   "cell_type": "markdown",
   "metadata": {},
   "source": [
    "When we are trying to understand a multi dimensional discipline like machine learning, a question arises in our mind as what is the level of understanding required in each discipline?"
   ]
  },
  {
   "cell_type": "markdown",
   "metadata": {},
   "source": [
    "There is no universal answer that one can give because it depends on what your interests are and what you want to do after learning machine learning. But it is better to have a strong background in +2 level mathematics in aforementioned topics."
   ]
  },
  {
   "cell_type": "markdown",
   "metadata": {},
   "source": [
    "# Probability and Statistics"
   ]
  },
  {
   "cell_type": "markdown",
   "metadata": {},
   "source": [
    "The whole premise of machine learning is based on the notion of minimising error between our in sample and out of sample expected values. The feasibility of learning is established on the laws of large numbers.Probability is what makes learning the data we have possible.\n",
    "\n",
    "Similarly we explore and analyse the data based on descriptive statistics and make predictions based on, though not strictly, inferential statistics. Machine learning is almost similar to statistical modelling but focuses more on increasing optimisation and enchancing performance.So what do we need to know for a better understanding of twists and tweaks in ML. "
   ]
  },
  {
   "cell_type": "markdown",
   "metadata": {},
   "source": [
    "- Combinatorics \n",
    "- Probability Rules & Axioms \n",
    "- Bayes' Theorem\n",
    "- Random Variables \n",
    "- Variance and Expectation\n",
    "- Conditional and Joint Distributions,\n",
    "- Standard Distributions (Bernoulli, Binomial, Multinomial, Uniform and Gaussian),\n",
    "- Moment Generating Functions,\n",
    "- Maximum Likelihood Estimation (MLE),\n",
    "- Prior and Posterior,\n",
    "- Maximum a Posteriori Estimation (MAP)\n",
    "- Sampling Methods."
   ]
  },
  {
   "cell_type": "markdown",
   "metadata": {},
   "source": [
    "Though absolute math knowledge is not necessary but it helps if you have some. The knowledge of above topics helps you to get a better intuition of how an algorithm is getting things done under the hood."
   ]
  }
 ],
 "metadata": {
  "kernelspec": {
   "display_name": "Python 3",
   "language": "python",
   "name": "python3"
  },
  "language_info": {
   "codemirror_mode": {
    "name": "ipython",
    "version": 3
   },
   "file_extension": ".py",
   "mimetype": "text/x-python",
   "name": "python",
   "nbconvert_exporter": "python",
   "pygments_lexer": "ipython3",
   "version": "3.6.1"
  }
 },
 "nbformat": 4,
 "nbformat_minor": 2
}
