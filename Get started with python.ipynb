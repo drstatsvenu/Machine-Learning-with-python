{
 "cells": [
  {
   "cell_type": "markdown",
   "metadata": {},
   "source": [
    "# Getting started with python"
   ]
  },
  {
   "cell_type": "markdown",
   "metadata": {},
   "source": [
    "### Python or R, A Beginners dilemma:"
   ]
  },
  {
   "cell_type": "markdown",
   "metadata": {},
   "source": [
    "A Newbie who is venturing into the field of data science is often confused between choosing pyhton and R as his language of choice. A couple of years ago if you had asked a data scientist what is the programming language of his choice he would have answered probably 'R'. But in recent times **Python** with its expanding user base started to replace 'R'. Unlike **R** which is built by statisticians and aimed to cater for statisticians, Python is a more general purpose programming language. R once had an upper hand on analysing and visualising data but with the active work put into improving python's libraries that distinction has blurred."
   ]
  },
  {
   "cell_type": "markdown",
   "metadata": {},
   "source": [
    "The Python language has diversified applications in the software development companies such as in gaming, web frameworks and applications, language development, prototyping, graphic design applications, web scraping and ofcourse our domain of interest Data science and Machine Learning. Unless your domain of study is only limited to data analysis it is better to learn Python."
   ]
  },
  {
   "cell_type": "markdown",
   "metadata": {},
   "source": [
    "\n",
    "Some added advantages of python include its support base in the form of communities like stackoverflow, availablity of libraries that can simplify pretty much everything and easily readable code."
   ]
  },
  {
   "cell_type": "markdown",
   "metadata": {},
   "source": [
    "In this tutorial we will give a gentle introduction into some basic topics of python. A general understanding of some programming terminology and having a prior coding experience is helpful but it is not necessary. We can use any text editing software to write a Python script file.We just need to save it with the .py extension. But using an Interated Development Environment(IDE) can make our life a lot easier. IDE is a piece of software that provides useful features like code hinting, syntax highlighting and checking, file explorers etc. to the programmer while he is coding.\n",
    "\n",
    "The best IDE we recommend is Jupyter as it comes with all the pre requisites needed for a data scientist."
   ]
  },
  {
   "cell_type": "markdown",
   "metadata": {},
   "source": [
    "###### Printing to the screen :"
   ]
  },
  {
   "cell_type": "markdown",
   "metadata": {},
   "source": [
    "As with all the tutorials we start by printing an output to our screen. we just do this by typing print('hello future'). such is the simplicity associated with using python."
   ]
  },
  {
   "cell_type": "code",
   "execution_count": 2,
   "metadata": {},
   "outputs": [
    {
     "name": "stdout",
     "output_type": "stream",
     "text": [
      "Hello Future\n"
     ]
    }
   ],
   "source": [
    "print('Hello Future')"
   ]
  },
  {
   "cell_type": "markdown",
   "metadata": {},
   "source": [
    "###### Defining variables:"
   ]
  },
  {
   "cell_type": "markdown",
   "metadata": {},
   "source": [
    "Assigning a integer value to a variable."
   ]
  },
  {
   "cell_type": "code",
   "execution_count": 23,
   "metadata": {},
   "outputs": [
    {
     "name": "stdout",
     "output_type": "stream",
     "text": [
      "10\n"
     ]
    }
   ],
   "source": [
    "a = 10\n",
    "print(a)"
   ]
  },
  {
   "cell_type": "code",
   "execution_count": 21,
   "metadata": {},
   "outputs": [
    {
     "name": "stdout",
     "output_type": "stream",
     "text": [
      "Hello Future\n"
     ]
    }
   ],
   "source": [
    "A = 'Hello Future'\n",
    "print(A)"
   ]
  },
  {
   "cell_type": "code",
   "execution_count": 22,
   "metadata": {},
   "outputs": [
    {
     "data": {
      "text/plain": [
       "str"
      ]
     },
     "execution_count": 22,
     "metadata": {},
     "output_type": "execute_result"
    }
   ],
   "source": [
    "type(A)"
   ]
  },
  {
   "cell_type": "markdown",
   "metadata": {},
   "source": [
    "We need not to define what is type of variable we are assigning. This feature in python is called as dyamic typing. It just assumes the data type after you fed it to the variable. Also note that the 'a' and 'A' are the not the same i.e. python is a **case sensitive language**."
   ]
  },
  {
   "cell_type": "markdown",
   "metadata": {},
   "source": [
    "###### Indentation and comments:"
   ]
  },
  {
   "cell_type": "code",
   "execution_count": 24,
   "metadata": {},
   "outputs": [
    {
     "name": "stdout",
     "output_type": "stream",
     "text": [
      "These white spaces are called indentation\n"
     ]
    }
   ],
   "source": [
    "if a == 11:\n",
    "    print ('Just observe the white spaces')\n",
    "else:\n",
    "    print ('These white spaces are called indentation')"
   ]
  },
  {
   "cell_type": "code",
   "execution_count": 25,
   "metadata": {},
   "outputs": [
    {
     "name": "stdout",
     "output_type": "stream",
     "text": [
      "10\n"
     ]
    }
   ],
   "source": [
    "print(a)    # These are comments"
   ]
  },
  {
   "cell_type": "markdown",
   "metadata": {},
   "source": [
    "Indentation makes the code more readable and if you are using an IDE, indentation is filled by IDE itself. Comments are the statements we write along with the code but does not run while compiling. Comments can be multi line but they are enclosed by triple aphostrophes (''')."
   ]
  },
  {
   "cell_type": "markdown",
   "metadata": {},
   "source": [
    "###### Statements:"
   ]
  },
  {
   "cell_type": "code",
   "execution_count": null,
   "metadata": {
    "collapsed": true
   },
   "outputs": [],
   "source": [
    "a = 10     # This is an assignment statement"
   ]
  },
  {
   "cell_type": "markdown",
   "metadata": {},
   "source": [
    "Note that there are other types of statements such as conditional statements etc."
   ]
  },
  {
   "cell_type": "markdown",
   "metadata": {},
   "source": [
    "###### Python list:"
   ]
  },
  {
   "cell_type": "markdown",
   "metadata": {},
   "source": [
    "List is an **ordered sequence** of items. It is one of the most used datatype in Python and is very flexible. All the items in a list do not need to be of the same type."
   ]
  },
  {
   "cell_type": "code",
   "execution_count": 27,
   "metadata": {
    "collapsed": true
   },
   "outputs": [],
   "source": [
    "this_is_list = [1,3.5,'machine']"
   ]
  },
  {
   "cell_type": "markdown",
   "metadata": {},
   "source": [
    "Declaring a list is pretty straight forward. Items separated by commas are enclosed within brackets [ ]."
   ]
  },
  {
   "cell_type": "markdown",
   "metadata": {},
   "source": [
    "###### Pyhton tuple:"
   ]
  },
  {
   "cell_type": "markdown",
   "metadata": {},
   "source": [
    "Tuple is an **ordered sequence** of items same as list. The only difference is tuples once created cannot be modified.That is tuples are **immutable**."
   ]
  },
  {
   "cell_type": "code",
   "execution_count": 28,
   "metadata": {
    "collapsed": true
   },
   "outputs": [],
   "source": [
    "this_is_tuple = (1,2.6,'learning')"
   ]
  },
  {
   "cell_type": "markdown",
   "metadata": {},
   "source": [
    "A list is enclosed by square brackets[], but a tuple is enclosed by rounded brackets()."
   ]
  },
  {
   "cell_type": "markdown",
   "metadata": {},
   "source": [
    "Any item in the list or tuple is accessed by its index. Index defines the position of a variable within the list. But one thing you should be aware of is an index starts from 0 i.e. first position is represented by index 0."
   ]
  },
  {
   "cell_type": "code",
   "execution_count": 29,
   "metadata": {},
   "outputs": [
    {
     "data": {
      "text/plain": [
       "1"
      ]
     },
     "execution_count": 29,
     "metadata": {},
     "output_type": "execute_result"
    }
   ],
   "source": [
    "this_is_list[0]"
   ]
  },
  {
   "cell_type": "code",
   "execution_count": 30,
   "metadata": {},
   "outputs": [
    {
     "data": {
      "text/plain": [
       "'learning'"
      ]
     },
     "execution_count": 30,
     "metadata": {},
     "output_type": "execute_result"
    }
   ],
   "source": [
    "this_is_tuple[2]"
   ]
  },
  {
   "cell_type": "markdown",
   "metadata": {},
   "source": [
    "###### Python Set:"
   ]
  },
  {
   "cell_type": "markdown",
   "metadata": {},
   "source": [
    "Set is an **unordered** collection of **unique** items. Set is defined by values separated by comma inside braces { }. Items in a set are not ordered."
   ]
  },
  {
   "cell_type": "code",
   "execution_count": 33,
   "metadata": {},
   "outputs": [
    {
     "name": "stdout",
     "output_type": "stream",
     "text": [
      "{1, 2, 3, 4, 5, 8}\n"
     ]
    }
   ],
   "source": [
    "random_lst = [1,2,3,2,1,3,4,1,2,8,5,4,8]\n",
    "\n",
    "this_is_set = set(random_lst)    # Any random list can be converted to set by applying set to the list.\n",
    "\n",
    "print(this_is_set)"
   ]
  },
  {
   "cell_type": "markdown",
   "metadata": {},
   "source": [
    "###### Pyhton Dictionary: "
   ]
  },
  {
   "cell_type": "markdown",
   "metadata": {},
   "source": [
    "Dictionary is an unordered collection of key-value pairs.\n",
    "\n",
    "It is generally used when we have a huge amount of data. Dictionaries are optimized for retrieving data. We must know the key to retrieve the value.\n",
    "\n",
    "In Python, dictionaries are defined within braces {} with each item being a pair in the form **Key : Value**. Key and value can be of any type."
   ]
  },
  {
   "cell_type": "code",
   "execution_count": 35,
   "metadata": {},
   "outputs": [
    {
     "name": "stdout",
     "output_type": "stream",
     "text": [
      "{'A': 1, 'B': 2, 'C': 3}\n"
     ]
    }
   ],
   "source": [
    "this_is_dict = {'A': 1,\n",
    "                'B': 2,\n",
    "                'C': 3}\n",
    "print(this_is_dict)"
   ]
  },
  {
   "cell_type": "markdown",
   "metadata": {},
   "source": [
    "Accessing a dictionary by key."
   ]
  },
  {
   "cell_type": "code",
   "execution_count": 36,
   "metadata": {},
   "outputs": [
    {
     "data": {
      "text/plain": [
       "1"
      ]
     },
     "execution_count": 36,
     "metadata": {},
     "output_type": "execute_result"
    }
   ],
   "source": [
    "this_is_dict['A']"
   ]
  },
  {
   "cell_type": "markdown",
   "metadata": {},
   "source": [
    "###### Conversion between Datatypes :"
   ]
  },
  {
   "cell_type": "markdown",
   "metadata": {},
   "source": [
    "It is quite easy to convert one data type to the other. We can convert between different data types by using different type conversion functions like int(), float(), str() etc."
   ]
  },
  {
   "cell_type": "code",
   "execution_count": 44,
   "metadata": {},
   "outputs": [
    {
     "name": "stdout",
     "output_type": "stream",
     "text": [
      "10 , 10.26 , 10\n"
     ]
    }
   ],
   "source": [
    "Float = 10.26\n",
    "\n",
    "# Converting it to float.\n",
    "\n",
    "Int = int(Float)\n",
    "\n",
    "# Converting float to string\n",
    "\n",
    "String = str(Int)\n",
    "\n",
    "print(Int, ',' ,Float, ',' ,String)"
   ]
  },
  {
   "cell_type": "code",
   "execution_count": 45,
   "metadata": {},
   "outputs": [
    {
     "data": {
      "text/plain": [
       "str"
      ]
     },
     "execution_count": 45,
     "metadata": {},
     "output_type": "execute_result"
    }
   ],
   "source": [
    "type(String)"
   ]
  },
  {
   "cell_type": "markdown",
   "metadata": {},
   "source": [
    "######  Python Operators :"
   ]
  },
  {
   "cell_type": "markdown",
   "metadata": {},
   "source": [
    "Operators are special symbols in Python that carry out arithmetic or logical computation. The value that the operator operates on is called the operand. There are mainly three types of operators\n",
    "\n",
    "- Arithematic operators\n",
    "   > +, - , *  ,/ , %  etc.,\n",
    "- Comparision(Relational) operators\n",
    "   > == equal to ,>=  greater than equal to, <= less than equal to\n",
    "- Boolean(Logical) operators\n",
    "   > and , or , not"
   ]
  },
  {
   "cell_type": "markdown",
   "metadata": {},
   "source": [
    "**Arithematic operators** as we already know them are used for mathematical operations"
   ]
  },
  {
   "cell_type": "code",
   "execution_count": 46,
   "metadata": {
    "collapsed": true
   },
   "outputs": [],
   "source": [
    "a = 10\n",
    "b = 7"
   ]
  },
  {
   "cell_type": "code",
   "execution_count": 49,
   "metadata": {},
   "outputs": [
    {
     "data": {
      "text/plain": [
       "17"
      ]
     },
     "execution_count": 49,
     "metadata": {},
     "output_type": "execute_result"
    }
   ],
   "source": [
    "c = a + b\n",
    "c"
   ]
  },
  {
   "cell_type": "markdown",
   "metadata": {},
   "source": [
    "** Comparision Operators ** are logical operations and are used to compare between values"
   ]
  },
  {
   "cell_type": "code",
   "execution_count": 52,
   "metadata": {},
   "outputs": [
    {
     "data": {
      "text/plain": [
       "True"
      ]
     },
     "execution_count": 52,
     "metadata": {},
     "output_type": "execute_result"
    }
   ],
   "source": [
    "d = a - b\n",
    "\n",
    "# Let us see which is greater? Is it sum of the numbers or difference of numbers\n",
    "\n",
    "d <= c\n",
    "\n",
    "# That is 'd' is less than 'c'"
   ]
  },
  {
   "cell_type": "markdown",
   "metadata": {},
   "source": [
    "** Boolean operators ** are logical operators which are used to find truth values."
   ]
  },
  {
   "cell_type": "code",
   "execution_count": 54,
   "metadata": {},
   "outputs": [
    {
     "name": "stdout",
     "output_type": "stream",
     "text": [
      "Because atleast one of the statement is wrong the above statement returned false\n"
     ]
    }
   ],
   "source": [
    "if a < 15 and d < 3:\n",
    "    print('Because both statements are True,the above statement is true')\n",
    "\n",
    "else :\n",
    "    print('Because atleast one of the statement is wrong the above statement returned false')"
   ]
  },
  {
   "cell_type": "markdown",
   "metadata": {},
   "source": [
    "Let us do a quick little example of finding mean of the values in a list."
   ]
  },
  {
   "cell_type": "code",
   "execution_count": 57,
   "metadata": {},
   "outputs": [
    {
     "name": "stdout",
     "output_type": "stream",
     "text": [
      "10.714285714285714\n"
     ]
    }
   ],
   "source": [
    "List = [3,7,5,11,13,17,19]\n",
    "\n",
    "# To find mean, let us find sum of the elements in the list.\n",
    "\n",
    "Sum = sum(List)\n",
    "\n",
    "# and divide it by total number of elements in the list\n",
    "\n",
    "Mean = Sum/len(List)\n",
    "\n",
    "print(Mean)"
   ]
  },
  {
   "cell_type": "markdown",
   "metadata": {},
   "source": [
    "But it seems finding sum and then dividing it by the total number of elements is a tedious task. so, is there any way around it?\n"
   ]
  },
  {
   "cell_type": "markdown",
   "metadata": {},
   "source": [
    "###### Importing Modules:\n"
   ]
  },
  {
   "cell_type": "code",
   "execution_count": 58,
   "metadata": {},
   "outputs": [
    {
     "data": {
      "text/plain": [
       "10.714285714285714"
      ]
     },
     "execution_count": 58,
     "metadata": {},
     "output_type": "execute_result"
    }
   ],
   "source": [
    "import numpy\n",
    "\n",
    "# Importing a predefined library\n",
    "\n",
    "numpy.mean(List)"
   ]
  },
  {
   "cell_type": "markdown",
   "metadata": {},
   "source": [
    "We already discussed in the advantages of python about pre compiled modules. The module or library we used here is Numeric Python(NumPy) library which simplifies math operations.\n",
    "\n",
    "We import a library into python by typing import and the module name then we call the required operation from module, In this case importing numpy and then calling mean from numpy"
   ]
  },
  {
   "cell_type": "markdown",
   "metadata": {},
   "source": [
    "Some of the most frequent modules we will be using when doing data analysis and machine learning are listed below.\n",
    "- Numpy for arithematic operations.\n",
    "- Pandas for data processing\n",
    "- Matplotlib for Data visualisation\n",
    "- Seaborn is used for a bit more sophisticated data visualisation\n",
    "- Scikit learn is a to go library for machine learning.\n",
    "- Scipy is for scintific computing.\n",
    "\n",
    "There are plethora of other libraries to choose from as per our own requirement."
   ]
  },
  {
   "cell_type": "markdown",
   "metadata": {},
   "source": [
    "This tutorial is breif though covered almost all aspects a beginner should have an idea.We have designed this in such a way that it gives a head start for a curious learner. All you have to do now is build your concepts based on what you learned here from the sources below."
   ]
  },
  {
   "cell_type": "markdown",
   "metadata": {},
   "source": [
    "https://learnpythonthehardway.org\n",
    "   This book written by zed shaw is considered by many as the best book for beginners who wish to learn python. You just don't read the syntax but actually gets to implement the code with this book."
   ]
  },
  {
   "cell_type": "markdown",
   "metadata": {},
   "source": [
    "http://www.practicepython.org/\n",
    "    This website is least known but certainly not the least. This website has a combination of some 40+ exercises which makes a newbie comfortable with python."
   ]
  },
  {
   "cell_type": "markdown",
   "metadata": {},
   "source": [
    "https://codeacademy.com\n",
    "    This website is for those who wish to follow a time-table and improve step by step. Tutors are usually eminent programmers and will have a question and answer forum.\n",
    "    \n",
    "This sources should help you in your pursuit of learning twists and tweaks of python."
   ]
  }
 ],
 "metadata": {
  "kernelspec": {
   "display_name": "Python 3",
   "language": "python",
   "name": "python3"
  },
  "language_info": {
   "codemirror_mode": {
    "name": "ipython",
    "version": 3
   },
   "file_extension": ".py",
   "mimetype": "text/x-python",
   "name": "python",
   "nbconvert_exporter": "python",
   "pygments_lexer": "ipython3",
   "version": "3.6.1"
  }
 },
 "nbformat": 4,
 "nbformat_minor": 2
}
